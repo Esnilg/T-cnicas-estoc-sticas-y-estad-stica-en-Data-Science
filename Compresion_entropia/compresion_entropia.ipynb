{
 "cells": [
  {
   "cell_type": "markdown",
   "metadata": {},
   "source": [
    "# Bits\n",
    "\n",
    "Un Bit es la unidad fundamental en la que podemos medir la información y nos permite decidir entre dos alternativas igualmente probables. La palabra Bit deriva de binary digit, o sea dígito binario, los cuales son representados por 1s y 0s. Pero si bien la palabra Bit deriva de binary digit no debemos confundirlos, ya que representan entidades distintas. Un Bit representa una cantidad de información definitiva. En cambio, un dígito binario es el valor de una variable binaria, el cual, como ya dijimos, puede ser 0 o 1; pero un dígito binario no representa información en sí misma.\n",
    "\n",
    "Ahora bien, volviendo a las preguntas por sí o por no que mencionamos antes; responder cada una de estas preguntas requiere un Bit de información. Sólo necesitamos un Bit para responder una pregunta como ¿sos un hombre o una mujer?; el 0 puede significar hombre y el 1 mujer. Con simplemente transmitir ese dígito en el mensaje, estamos transmitiendo la respuesta. Pero aquí viene otra de las grandes intuiciones de Shannon; tampoco importa la forma que tome el mensaje, puede ser una luz roja versus una luz verde; o una bandera blanca y otra roja; realmente no importa el medio que se utilice, el mensaje siempre contiene un Bit de información.\n",
    "\n",
    "Y ¿qué pasa con otro tipo de preguntas? preguntas como adivinar un número entero entre 1 y 1000, o como, ¿cuál es la capital de Islandia? Estas preguntas también pueden ser respondidas con una cadena de Bits. El lenguaje no es más que una cadena de símbolos y cualquier símbolo puede ser representado con una cadena de Bits. Por lo tanto, cualquier respuesta que pueda ser escrita en un lenguaje puede ser representada con una cadena de Bits, de 1s y 0s. Los Bits son el medio fundamental de la información.\n",
    "\n",
    "https://relopezbriega.github.io/blog/2018/03/30/introduccion-a-la-teoria-de-la-informacion-con-python/\n"
   ]
  },
  {
   "cell_type": "code",
   "execution_count": 2,
   "metadata": {},
   "outputs": [],
   "source": [
    "import random\n",
    "\n",
    "random.seed(1982)\n",
    "\n",
    "def adivinar_numero():\n",
    "    mi_numero = random.randint(1, 1000)\n",
    "    bits = 1\n",
    "    tu_numero = int(input(\"Adivine un número entero entre 1 y 1000\\nIngrese un número entre 1 y 1000: \"))\n",
    "    \n",
    "    while tu_numero != mi_numero:\n",
    "        if tu_numero < mi_numero:\n",
    "            tu_numero = int(input(\"Su número es muy bajo!\\nIngrese otro número entre 1 y 1000:\"))\n",
    "        else:\n",
    "            tu_numero = int(input(\"Su número es muy alto!\\nIngrese otro número entre 1 y 1000:\"))\n",
    "        bits += 1\n",
    "    \n",
    "    print(\"Felicidades el número es {0} y ha utilizado {1} bits!\".format(mi_numero, bits))"
   ]
  },
  {
   "cell_type": "markdown",
   "metadata": {},
   "source": [
    "Esta realización, que cualquier información, cualquier respuesta, puede ser codificada en una cadena de Bits, nos abre la puerta para pensar que entonces debe existir una forma de medir cuánta información hay en un mensaje.¿Cuál es la mínima cantidad de Bits para codificar un mensaje? Por ejemplo, para responder la pregunta planteada anteriormente de adivinar un número entero entre 1 y 1000, no se necesitan más que 10 Bits!. Shannon encontró que una pregunta con N posibles resultados puede ser respondida con una cadena de Bits de $log_2N$ Bits; es decir que solo necesitamos $log_2N$ Bits de información para distinguir entre N posibilidades. (Si les consume más de 10 bits llegar a la respuesta correcta, no están utilizando la estrategia correcta!)."
   ]
  },
  {
   "cell_type": "code",
   "execution_count": 3,
   "metadata": {},
   "outputs": [
    {
     "name": "stdout",
     "output_type": "stream",
     "text": [
      "Adivine un número entero entre 1 y 1000\n",
      "Ingrese un número entre 1 y 1000: 900\n",
      "Su número es muy alto!\n",
      "Ingrese otro número entre 1 y 1000:800\n",
      "Su número es muy bajo!\n",
      "Ingrese otro número entre 1 y 1000:810\n",
      "Su número es muy bajo!\n",
      "Ingrese otro número entre 1 y 1000:830\n",
      "Su número es muy alto!\n",
      "Ingrese otro número entre 1 y 1000:820\n",
      "Su número es muy alto!\n",
      "Ingrese otro número entre 1 y 1000:819\n",
      "Su número es muy alto!\n",
      "Ingrese otro número entre 1 y 1000:818\n",
      "Su número es muy alto!\n",
      "Ingrese otro número entre 1 y 1000:817\n",
      "Su número es muy alto!\n",
      "Ingrese otro número entre 1 y 1000:816\n",
      "Su número es muy alto!\n",
      "Ingrese otro número entre 1 y 1000:815\n",
      "Su número es muy alto!\n",
      "Ingrese otro número entre 1 y 1000:814\n",
      "Su número es muy alto!\n",
      "Ingrese otro número entre 1 y 1000:813\n",
      "Su número es muy alto!\n",
      "Ingrese otro número entre 1 y 1000:812\n",
      "Felicidades el número es 812 y ha utilizado 13 bits!\n"
     ]
    }
   ],
   "source": [
    "adivinar_numero()"
   ]
  },
  {
   "cell_type": "code",
   "execution_count": 4,
   "metadata": {},
   "outputs": [],
   "source": [
    "def adivinar_nombre():\n",
    "    nombres = [\n",
    "    \"ramses\", \"rodolfo\", \"regina\", \"ruth\", \"ramiro\",\n",
    "    \"ramon\", \"roxana\", \"rebeca\", \"raquel\", \"ruben\",\n",
    "    \"rosario\", \"renata\", \"raul\", \"romina\", \"roberto\",\n",
    "    \"ricardo\", \"rafael\", \"rosa\", \"rodrigo\", \"rocio\"\n",
    "    ]\n",
    "    index = random.randint(0, 19)\n",
    "    mi_nombre = nombres[index]\n",
    "    tu_nombre = input(\"Adivina el nombre! Empieza con R y tiene {} letras: \".format(len(mi_nombre)))\n",
    "    letras = 2\n",
    "    bits = 1\n",
    "    \n",
    "    while tu_nombre.lower() != mi_nombre:\n",
    "        mi_nombre_parcial = mi_nombre[:letras]\n",
    "        if mi_nombre_parcial == mi_nombre:\n",
    "            break\n",
    "        \n",
    "        tu_nombre = input(\"Inténtalo otra vez! Empieza con {0} y tiene {1} letras:\".format(mi_nombre_parcial,\n",
    "                                                                                           letras))\n",
    "        bits += 1\n",
    "        letras += 1\n",
    "    \n",
    "    print(\"El nombre es {0} y has utilizado {1} bits! Los restantes {2} son redundantes!\".format(mi_nombre.upper(),\n",
    "                                                                                                bits, \n",
    "                                                                                                 len(mi_nombre) - bits))"
   ]
  },
  {
   "cell_type": "markdown",
   "metadata": {},
   "source": [
    "# Entropía\n",
    "\n",
    "La idea central de la Teoría de la información de Shannon es la Entropía. La información y la Entropía están intimimamente relacionadas, ya que esta última es en sí misma una medida de información.\n",
    "\n",
    "La fórmula matemática que encontró Shannon para medir la Entropía de un mensaje es muy similar a la que se utiliza en Termodinámica para medir el grado de desorden de un sistema. Es la siguiente:\n",
    "\n",
    "$H(x)=−\\sum_xp(X=x)log_2(p(X=x))$\n",
    "\n",
    "Cuando Shannon se dio cuenta de que la Entropía de una secuencia de símbolos estaba relacionada con la cantidad de información que la cadena de símbolos tiende a contener, de repente tuvo una herramienta para cuantificar la información y la redundancia en un mensaje. Fue capaz de demostrar, matemáticamente, cuánta información puede transmitirse en cualquier medio y que existe un límite fundamental para la cantidad de información que puede transmitir con un equipo determinado.\n",
    "\n",
    "Veamos algunos ejemplos de como calcular la Entropía con la ayuda de Python:"
   ]
  },
  {
   "cell_type": "code",
   "execution_count": 5,
   "metadata": {},
   "outputs": [],
   "source": [
    "import matplotlib.pyplot as plt\n",
    "import numpy as np\n",
    "import warnings\n",
    "\n",
    "# ingnorar mensajes de advertencias en el notebook\n",
    "warnings.filterwarnings('ignore')\n",
    "\n",
    "# graficos en el notebook\n",
    "%matplotlib inline\n",
    "\n",
    "\n",
    "def entropia(X):\n",
    "    \"\"\"Devuelve el valor de entropia de una muestra de datos\"\"\" \n",
    "    # X debe ser de tipo np.array\n",
    "    probs = [np.mean(X == valor) for valor in set(X)]\n",
    "    return round(np.sum(-p * np.log2(p) for p in probs), 3)\n",
    "\n",
    "def entropia_prob_pq(x):\n",
    "    \"\"\"Devuelve la entropia de una probabilidad de dos posibilidades\"\"\"\n",
    "    return round((-x * np.log2(x)) + (-(1 - x) * np.log2((1 - x))), 3)\n",
    "\n",
    "\n",
    "def entropia_posibilidades(x):\n",
    "    \"\"\"Devuelve la entropía para la cantidad de posibilidades independientes x\"\"\"\n",
    "    return round(np.log2(x), 3)\n",
    "\n",
    "def entropia_geometrica(x):\n",
    "    \"\"\"Devuelve la entropia para una variable aleatoria Geometrica\"\"\"\n",
    "    return round(-(1/x - 1)*np.log2(1-x) - np.log2(x))"
   ]
  },
  {
   "cell_type": "markdown",
   "metadata": {},
   "source": [
    "Supongamos que arrojamos una moneda al aire 16 veces y representamos a la cara con un 1 y a el sello con un 0. Podemos obtener una cadena como la siguiente: 1101001110001011. Esta cadena es aleatoria y por lo tanto no podemos encontrar ningún patrón en ella que nos diga cuál va a ser el próximo valor que podemos obtener más alla de la chance de 50% habitual, por tal motivo, no podemos comprimir la cadena y cada símbolo contiene un Bit de información. Ahora supongamos que la moneda esta sesgada y que siempre sale cara; en este caso nuestra cadena será la siguiente: 1111111111111111. Esta cadena es sumamente predecible, no nos aporta ninguna sorpresa y tenemos una probabilidad de 100% de adivinar que el siguiente dígito también será un 1. Es totalmente redundante y por lo tanto no nos aporta ninguna información. Cada símbolo contiene un Bit de información. Sin sorpresa, no hay información."
   ]
  },
  {
   "cell_type": "code",
   "execution_count": 6,
   "metadata": {},
   "outputs": [
    {
     "data": {
      "image/png": "[encoded data removed]",
      "text/plain": [
       "<Figure size 432x288 with 1 Axes>"
      ]
     },
     "metadata": {
      "needs_background": "light"
     },
     "output_type": "display_data"
    }
   ],
   "source": [
    "# Graficando la información como sorpresa\n",
    "# Mientras menos probable, más sorpresa y más información contiene.\n",
    "vent = np.vectorize(entropia_posibilidades)\n",
    "\n",
    "X = np.linspace(0, 1, 11)\n",
    "\n",
    "plt.plot(X, vent(X)*-1)\n",
    "plt.title(\"Información como sorpresa\")\n",
    "plt.grid(color='b', linestyle='-', linewidth=.3)\n",
    "plt.xlabel(r'Probabilidades $p(x)$')\n",
    "plt.ylabel(r'sorpresa $H(x) = E[log_2 1/p(x)]$')\n",
    "plt.show()"
   ]
  },
  {
   "cell_type": "code",
   "execution_count": 7,
   "metadata": {},
   "outputs": [
    {
     "data": {
      "image/png": "[encoded data removed]",
      "text/plain": [
       "<Figure size 432x288 with 1 Axes>"
      ]
     },
     "metadata": {
      "needs_background": "light"
     },
     "output_type": "display_data"
    }
   ],
   "source": [
    "# Graficando la entropia en el caso de 2 posibilidades con\n",
    "# probabilidad p y (1- p)\n",
    "\n",
    "# vectorizar la función para poder pasarle un vector de parámetro\n",
    "vent = np.vectorize(entropia_prob_pq)\n",
    "\n",
    "X = np.linspace(0, 1, 11)\n",
    "\n",
    "plt.plot(X, vent(X))\n",
    "plt.title(\"Entropia para 2 posibilidades con probabilidad p\")\n",
    "plt.grid(color='b', linestyle='-', linewidth=.3)\n",
    "plt.xlabel('Probabilidades p')\n",
    "plt.ylabel('Bits')\n",
    "plt.show()\n"
   ]
  },
  {
   "cell_type": "code",
   "execution_count": 8,
   "metadata": {},
   "outputs": [
    {
     "data": {
      "image/png": "[encoded data removed]",
      "text/plain": [
       "<Figure size 432x288 with 1 Axes>"
      ]
     },
     "metadata": {
      "needs_background": "light"
     },
     "output_type": "display_data"
    }
   ],
   "source": [
    "# Graficando la entropia de una variable aleatoria geometrica\n",
    "# probabilidad p \n",
    "\n",
    "# vectorizar la función para poder pasarle un vector de parámetro\n",
    "vent = np.vectorize(entropia_geometrica)\n",
    "\n",
    "X = np.linspace(0.00001, 1, 100)\n",
    "\n",
    "plt.plot(X, vent(X))\n",
    "plt.title(\"Entropia para una variable aleatoria geometrica con prob p\")\n",
    "plt.grid(color='b', linestyle='-', linewidth=.3)\n",
    "plt.xlabel('Probabilidades p')\n",
    "plt.ylabel('Bits')\n",
    "plt.show()"
   ]
  },
  {
   "cell_type": "code",
   "execution_count": 9,
   "metadata": {},
   "outputs": [
    {
     "data": {
      "text/plain": [
       "(1.0, 1.0)"
      ]
     },
     "execution_count": 9,
     "metadata": {},
     "output_type": "execute_result"
    }
   ],
   "source": [
    "# La entropia de una muestra de 2 posibilidades completamente\n",
    "# aleatorias, en la que cualquiera de los 2 valores tiene la \n",
    "# misma probabilidad (p=0.5) de ser seleccionada es de 1 bit\n",
    "\n",
    "# Muestra de 10000 valores aleatorios entre 0 y 1\n",
    "X = np.random.randint(0, 2, size=10000)\n",
    "\n",
    "entropia(X), entropia_posibilidades(2)"
   ]
  },
  {
   "cell_type": "code",
   "execution_count": 10,
   "metadata": {},
   "outputs": [
    {
     "data": {
      "text/plain": [
       "(3.0, 3.0)"
      ]
     },
     "execution_count": 10,
     "metadata": {},
     "output_type": "execute_result"
    }
   ],
   "source": [
    "# La entropia de una muestra de 8 posibilidades completamente\n",
    "# aleatorias es igual a 3 bits.\n",
    "\n",
    "# Muestra de 10000 valores aleatorios entre 0 y 7\n",
    "X = np.random.randint(0, 8, size=10000)\n",
    "\n",
    "entropia(X), entropia_posibilidades(8)"
   ]
  },
  {
   "cell_type": "markdown",
   "metadata": {},
   "source": [
    "# Comprimiendo datos\n",
    "\n",
    "by Pablo Estrada\n",
    "\n",
    "Hoy vamos a platicar sobre cómo hacer un pequeño programa para comprimir datos de un archivo de texto. Nuestro programa va a funcional con un algoritmo de compresión bastante famoso: El algoritmo de Huffman. Con él vamos a utilizar menos bits para guardar la misma cantidad de información.\n",
    "\n",
    "Nota: En este post estudiamos codificación con el algoritmo de Huffman. En un post posterior estudiamos decodificación. Chécalo!\n",
    "\n",
    "La idea es muy simple: En un archivo normal, todos los símbolos son de un byte (8 bits). En nuestro archivo comprimido, los símbolos que se utilizan mucho pueden ser codificados con menos bits, y los símbolos que casi no se usan pueden ser codificados con más bits, y así, el promedio de bits por símbolo sería menor a 8.\n",
    "\n",
    "1. http://bitybyte.github.io/Huffman-coding/\n",
    "2. https://gist.github.com/pabloem/7974e7a1dc755190b7f1"
   ]
  },
  {
   "cell_type": "markdown",
   "metadata": {},
   "source": [
    "# El algoritmo\n",
    "\n",
    "El algoritmo de Huffman recibe una distribución de probabilidad de los símbolos del archivo. Basado en esta distribución, se crea un árbol binario de codificación utilizando una fila de prioridad, y con ese árbol de codificación se genera un diccionario. Luego ese diccionario es utilizado para codificar el archivo. Vamos a ver por partes:\n",
    "\n",
    "## Obteniendo la distribución\n",
    "\n",
    "La distribución de entrada define las probabilidades de que cada símbolo aparezca en el archivo, por ejemplo, un archivo con 50% de la letra ‘a’, 30% de ‘b’ y 20% de ‘c’ tiene la siguiente distribución: P(a)=0.5, P(b)=0.3, P(c)=0.2.\n",
    "\n",
    "Para calcular la distribución de un archivo utilizamos la siguiente función:"
   ]
  },
  {
   "cell_type": "code",
   "execution_count": 11,
   "metadata": {},
   "outputs": [],
   "source": [
    "import collections\n",
    "def get_probabilities(content):\n",
    "    total = len(content) + 1 # Agregamos uno por el caracter FINAL\n",
    "    c = collections.Counter(content)\n",
    "    # out: Counter({'key1': n1, 'key2': n2, 'key3': n3, ...})\n",
    "    res = {}\n",
    "    for char,count in c.items():\n",
    "        res[char] = float(count)/total\n",
    "    res['end'] = 1.0/total\n",
    "    return res"
   ]
  },
  {
   "cell_type": "code",
   "execution_count": 12,
   "metadata": {},
   "outputs": [
    {
     "data": {
      "text/plain": [
       "{'a': 0.4, 'b': 0.3, 'c': 0.2, 'end': 0.1}"
      ]
     },
     "execution_count": 12,
     "metadata": {},
     "output_type": "execute_result"
    }
   ],
   "source": [
    "#Entonces, un ejemplo del resultado nuestra función sería:\n",
    "    \n",
    "get_probabilities(\"aaaabbbcc\")"
   ]
  },
  {
   "cell_type": "markdown",
   "metadata": {},
   "source": [
    "# Obteniendo el árbol de codificación\n",
    "\n",
    "El siguiente paso es obtener el árbol de codificación. Éste es el paso de la muerte del algoritmo de Huffman, y consiste en los siguientes pasos:\n",
    "\n",
    "1. Poner todos los símbolos en una fila de prioridad de acuerdo a sus probabilidades.\n",
    "2. Combinar los dos símbolos menos probables en un solo nodo de un árbol.\n",
    "3. Insertar el nuevo nodo a la fila de prioridad\n",
    "4. Repetir desde el paso 2 hasta que sólo haya un elemento en la fila de prioridad.\n",
    "\n",
    "Para nuestra fila de prioridad vamos a utilizar un módulo de Python llamado heapq, que provee una fila de prioridad basada en Heaps."
   ]
  },
  {
   "cell_type": "code",
   "execution_count": 13,
   "metadata": {},
   "outputs": [],
   "source": [
    "import heapq\n",
    "# https://www.techbeamers.com/python-heapq/\n",
    "\n",
    "def make_tree(probs):\n",
    "    q = []\n",
    "    # Agregamos todos los símbolos a la pila\n",
    "    for ch,pr in probs.items():\n",
    "        # La fila de prioridad está ordenada por\n",
    "        # prioridad y profundidad\n",
    "        heapq.heappush(q,(pr,0,ch))\n",
    "    \n",
    "    # lista de prioridad\n",
    "    for ele in q:\n",
    "        print(ele)\n",
    "    \n",
    "    # Empezamos a mezclar símbolos juntos\n",
    "    # hasta que la fila tenga un elemento\n",
    "    while len(q) > 1:\n",
    "        e1 = heapq.heappop(q) # El símbolo menos probable\n",
    "        e2 = heapq.heappop(q) # El segundo menos probable\n",
    "        \n",
    "        # Este nuevo nodo tiene probabilidad e1[0]+e2[0]\n",
    "        # y profundidad mayor al nuevo nodo\n",
    "        nw_e = (round(e1[0]+e2[0],2),max(e1[1],e2[1])+1,[e1,e2])\n",
    "        heapq.heappush(q,nw_e)\n",
    "        \n",
    "        print(\"\\n\")\n",
    "        for ele in q:\n",
    "            print(ele)\n",
    "        \n",
    "    print(\"Solucion final\\n\")    \n",
    "    return q[0] # Devolvemos el arbol sin la fila"
   ]
  },
  {
   "cell_type": "code",
   "execution_count": 14,
   "metadata": {},
   "outputs": [
    {
     "name": "stdout",
     "output_type": "stream",
     "text": [
      "(0.1, 0, 'end')\n",
      "(0.2, 0, 'c')\n",
      "(0.3, 0, 'b')\n",
      "(0.4, 0, 'a')\n",
      "\n",
      "\n",
      "(0.3, 0, 'b')\n",
      "(0.4, 0, 'a')\n",
      "(0.3, 1, [(0.1, 0, 'end'), (0.2, 0, 'c')])\n",
      "\n",
      "\n",
      "(0.4, 0, 'a')\n",
      "(0.6, 2, [(0.3, 0, 'b'), (0.3, 1, [(0.1, 0, 'end'), (0.2, 0, 'c')])])\n",
      "\n",
      "\n",
      "(1.0, 3, [(0.4, 0, 'a'), (0.6, 2, [(0.3, 0, 'b'), (0.3, 1, [(0.1, 0, 'end'), (0.2, 0, 'c')])])])\n",
      "Solucion final\n",
      "\n",
      "(1.0, 3, [(0.4, 0, 'a'), (0.6, 2, [(0.3, 0, 'b'), (0.3, 1, [(0.1, 0, 'end'), (0.2, 0, 'c')])])])\n"
     ]
    }
   ],
   "source": [
    "tree = make_tree(get_probabilities(\"aaaabbbcc\"))\n",
    "print(tree)"
   ]
  },
  {
   "cell_type": "markdown",
   "metadata": {},
   "source": [
    "# Creando el diccionario de codificación\n",
    "\n",
    "Una vez que tenemos un árbol de codificación, tenemos que usarlo para generar un diccionario de codificación. Para esto tenemos que generar códigos binarios para cada uno de los símbolos del archivo de entrada. ¿Cómo generamos los códigos binarios utilizando el árbol del algoritmo?\n",
    "\n",
    "Exactamente. Marcamos cada rama del árbol con 1 o 0! Y entonces el código de cada símbolo será la serie de 1s y 0s que hay que atravesar para alcanzarlo."
   ]
  },
  {
   "cell_type": "markdown",
   "metadata": {},
   "source": [
    "![huffcodemk.png](huffcodemk.png)\n",
    "\n",
    "Para conseguir esto, vamos a hacer DFS (Depth-First Search) sobre el árbol, generando los códigos conforme ‘bajamos’ por las ramas."
   ]
  },
  {
   "cell_type": "code",
   "execution_count": 15,
   "metadata": {},
   "outputs": [],
   "source": [
    "#!/usr/bin/env python3\n",
    "import sys\n",
    "import pickle\n",
    "import json\n",
    "    \n",
    "def make_dictionary(tree):\n",
    "    res = {} # La estructura que vamos a devolver\n",
    "    search_stack = [] # Pila para DFS\n",
    "    # El último elemento de la lista es el prefijo!\n",
    "    search_stack.append(tree+(\"\",)) \n",
    "    while len(search_stack) > 0:\n",
    "        # remuevo y devuelvo el ultimo elemento de la lista\n",
    "        elm = search_stack.pop()\n",
    "        if type(elm[2]) == list:\n",
    "            print(type(elm[2]))\n",
    "            prefix = elm[-1]\n",
    "            print(prefix)\n",
    "            # En este caso, el nodo NO es una hoja del árbol,\n",
    "            # es decir que tiene nodos hijos\n",
    "            \n",
    "            # El hijo derecho tiene \"1\" en el prefijo\n",
    "            search_stack.append(elm[2][1]+(prefix+\"1\",))\n",
    "            # El hijo izquierdo tiene \"0\" en el prefijo\n",
    "            search_stack.append(elm[2][0]+(prefix+\"0\",))\n",
    "            continue\n",
    "        else:\n",
    "            # El nodo es una hoja del árbol, así que\n",
    "            # obtenemos el código completo y lo agregamos\n",
    "            code = elm[-1]\n",
    "            res[elm[2]] = code\n",
    "        pass\n",
    "    return res"
   ]
  },
  {
   "cell_type": "code",
   "execution_count": 16,
   "metadata": {},
   "outputs": [
    {
     "name": "stdout",
     "output_type": "stream",
     "text": [
      "<class 'list'>\n",
      "\n",
      "<class 'list'>\n",
      "1\n",
      "<class 'list'>\n",
      "11\n"
     ]
    },
    {
     "data": {
      "text/plain": [
       "{'a': '0', 'b': '10', 'end': '110', 'c': '111'}"
      ]
     },
     "execution_count": 16,
     "metadata": {},
     "output_type": "execute_result"
    }
   ],
   "source": [
    "make_dictionary(tree)"
   ]
  },
  {
   "cell_type": "markdown",
   "metadata": {},
   "source": [
    "Con la rutina make_dictionary obtenemos el diccionario de codificación, y tenemos todo lo necesario para codificar nuestro archivo a su versión comprimida:\n",
    "\n",
    "Codificando el texto\n",
    "Ya que tenemos el diccionario, codificar el texto es la parte más fácil. Simplemente tenemos que concatenar todos los bits de cada uno de los símbolos. Esto nos va a generar una cadena bien larga.\n",
    "\n",
    "Por ejemplo, dado el diccionario en la Figura 4, y la cadena de entrada \"aaaabbbcc\", el resultado sería \"0 0 0 0 10 10 10 111 111 110\" (como ven a:0, b:10, c:111, Fin:110). Ya todo junto sería: \"0000101010111111110\".\n",
    "\n",
    "Pero no queremos una variable de tipo String. Queremos una cadena de bits. Así que tenemos que convertirlo a entero. Esto nos hace descubrir un problema. Los ceros a la izquierda!\n",
    "\n",
    "0000101010111111110 = 101010111111110\n",
    "\n",
    "Para arreglar este problema, vamos a agregar un 1 a la izquierda, para mantener la cuenta de ceros. Es decir que nuestra cadena \"aaaabbbcc\" va a quedar codificada así: \"10000101010111111110\". Con el 1 a la izquierda podemos convertirla a entero y no perder los ceros! : )\n",
    "\n",
    "Afortunadamente, en Python las variables enteras no tienen un límite para su longitud (Hurra por los lenguajes de alto nivel!). La función se ve así:"
   ]
  },
  {
   "cell_type": "code",
   "execution_count": 17,
   "metadata": {},
   "outputs": [],
   "source": [
    "def compress(dic,content):\n",
    "    res = \"\"\n",
    "    # Iteramos sobre cada elemento del archivo de entrada\n",
    "    for ch in content:\n",
    "        code = dic[ch]\n",
    "        res = res + code\n",
    "    # Agregamos el 1 a la izquierda, y el marcador de final\n",
    "    # a la derecha\n",
    "    res = '1' + res + dic['end']\n",
    "    # Agregamos ceros para que la longitud del resultado\n",
    "    # sea un múltiplo de 8\n",
    "    res = res + (len(res) % 8 * \"0\")\n",
    "    return int(res,2) # Convertimos a entero! (2 porque es base 2)"
   ]
  },
  {
   "cell_type": "markdown",
   "metadata": {},
   "source": [
    "Y con esto tenemos todo listo! Ahora sólo es necesario guardar la cadena de bits en forma de int que viene de compress, y el diccionario; y tenemos todo lo necesario para decodificar el archivo!\n",
    "\n",
    "\n",
    "# Guardando a disco\n",
    "\n",
    "Para guardar a disco, vamos a hacerlo muy simple. El diccionario vamos a guardarlo como está en JSON, y para la cadena de bits vamos a utilizar una librería estándar de Python llamada pickle, que está diseñada para salida y entrada binarias. La función es simple:"
   ]
  },
  {
   "cell_type": "code",
   "execution_count": 18,
   "metadata": {},
   "outputs": [],
   "source": [
    "def store(data,dic,outfile):\n",
    "    # Guardamos la cadena de bits en un archivo, que abrimos\n",
    "    # en modo binario (por eso 'wb')\n",
    "    outf = open(outfile,'wb')\n",
    "    pickle.dump(compressed,outf)\n",
    "    outf.close()\n",
    "\n",
    "    # Guardamos el diccionario en otro archivo en formato JSON\n",
    "    outf = open(outfile+\".dic\",'w')\n",
    "    json.dump(dic,outf)\n",
    "    outf.close()\n",
    "    pass"
   ]
  },
  {
   "cell_type": "code",
   "execution_count": 21,
   "metadata": {},
   "outputs": [
    {
     "name": "stdout",
     "output_type": "stream",
     "text": [
      "(0.1, 0, 'end')\n",
      "(0.2, 0, 'c')\n",
      "(0.3, 0, 'b')\n",
      "(0.4, 0, 'a')\n",
      "\n",
      "\n",
      "(0.3, 0, 'b')\n",
      "(0.4, 0, 'a')\n",
      "(0.3, 1, [(0.1, 0, 'end'), (0.2, 0, 'c')])\n",
      "\n",
      "\n",
      "(0.4, 0, 'a')\n",
      "(0.6, 2, [(0.3, 0, 'b'), (0.3, 1, [(0.1, 0, 'end'), (0.2, 0, 'c')])])\n",
      "\n",
      "\n",
      "(1.0, 3, [(0.4, 0, 'a'), (0.6, 2, [(0.3, 0, 'b'), (0.3, 1, [(0.1, 0, 'end'), (0.2, 0, 'c')])])])\n",
      "Solucion final\n",
      "\n",
      "<class 'list'>\n",
      "\n",
      "<class 'list'>\n",
      "1\n",
      "<class 'list'>\n",
      "11\n",
      "Archivo comprimido!\n"
     ]
    }
   ],
   "source": [
    "#Poniéndolo todo junto\n",
    "#Pues ya que tenemos todas las partes del algoritmo, podemos ponerlas juntas:\n",
    "\n",
    "# Leemos el archivo de entrada completo a cont\n",
    "#inf = open(sys.argv[1])\n",
    "#cont = inf.read()\n",
    "#inf.close()\n",
    "# Calculamos la distribución de probabilidad para cada símbolo\n",
    "\n",
    "cont = \"aaaabbbcc\"\n",
    "probs = get_probabilities(cont)\n",
    "# Construimos el árbol de parseo! : )\n",
    "tree = make_tree(probs)\n",
    "# Construimos el diccionario para codificar\n",
    "dic = make_dictionary(tree)\n",
    "# Codificamos el contenido del archivo\n",
    "compressed = compress(dic,cont)\n",
    "# Guardamos todo en disco!\n",
    "#store(compressed,dic,sys.argv[2])\n",
    "\n",
    "print(\"Archivo comprimido!\")"
   ]
  },
  {
   "cell_type": "markdown",
   "metadata": {},
   "source": [
    "Y listo, con esto tenemos el programa completo para comprimir archivos. Fíjense que si la cadena \"aaaabbbcc\", que es de 9 bytes (72 bits) queda codificada como \"10000101010111111110\" (20 bits), entonces estamos comprimiendo más del 70%!"
   ]
  },
  {
   "cell_type": "code",
   "execution_count": 22,
   "metadata": {},
   "outputs": [
    {
     "data": {
      "text/plain": [
       "{'a': 0.4, 'b': 0.3, 'c': 0.2, 'end': 0.1}"
      ]
     },
     "execution_count": 22,
     "metadata": {},
     "output_type": "execute_result"
    }
   ],
   "source": [
    "probs"
   ]
  },
  {
   "cell_type": "code",
   "execution_count": 23,
   "metadata": {},
   "outputs": [
    {
     "data": {
      "text/plain": [
       "(1.0,\n",
       " 3,\n",
       " [(0.4, 0, 'a'),\n",
       "  (0.6, 2, [(0.3, 0, 'b'), (0.3, 1, [(0.1, 0, 'end'), (0.2, 0, 'c')])])])"
      ]
     },
     "execution_count": 23,
     "metadata": {},
     "output_type": "execute_result"
    }
   ],
   "source": [
    "tree"
   ]
  },
  {
   "cell_type": "code",
   "execution_count": 24,
   "metadata": {},
   "outputs": [
    {
     "data": {
      "text/plain": [
       "{'a': '0', 'b': '10', 'end': '110', 'c': '111'}"
      ]
     },
     "execution_count": 24,
     "metadata": {},
     "output_type": "execute_result"
    }
   ],
   "source": [
    "dic"
   ]
  },
  {
   "cell_type": "code",
   "execution_count": 25,
   "metadata": {},
   "outputs": [
    {
     "data": {
      "text/plain": [
       "8740832"
      ]
     },
     "execution_count": 25,
     "metadata": {},
     "output_type": "execute_result"
    }
   ],
   "source": [
    "compressed"
   ]
  },
  {
   "cell_type": "code",
   "execution_count": 26,
   "metadata": {},
   "outputs": [
    {
     "data": {
      "text/plain": [
       "'100001010101111111100000'"
      ]
     },
     "execution_count": 26,
     "metadata": {},
     "output_type": "execute_result"
    }
   ],
   "source": [
    "bin(compressed)[2:]"
   ]
  },
  {
   "cell_type": "code",
   "execution_count": 46,
   "metadata": {},
   "outputs": [],
   "source": [
    "## ejemplo con una moneda: 16 veces, p=0.5\n",
    "\n",
    "p = 0.5\n",
    "N = 16\n",
    "X = np.random.binomial(size=N, n=1, p=p)\n",
    "\n",
    "# si cae 0 es cara y si cae 1 es sello.\n",
    "Y = \"\"\n",
    "\n",
    "for i in range(len(X)):\n",
    "    if X[i] == 0:\n",
    "        Y = Y + \"c\"\n",
    "    else:\n",
    "        Y = Y + \"s\"\n"
   ]
  },
  {
   "cell_type": "code",
   "execution_count": 47,
   "metadata": {},
   "outputs": [
    {
     "name": "stdout",
     "output_type": "stream",
     "text": [
      "(0.058823529411764705, 0, 'end')\n",
      "(0.47058823529411764, 0, 's')\n",
      "(0.47058823529411764, 0, 'c')\n",
      "\n",
      "\n",
      "(0.47058823529411764, 0, 's')\n",
      "(0.53, 1, [(0.058823529411764705, 0, 'end'), (0.47058823529411764, 0, 'c')])\n",
      "\n",
      "\n",
      "(1.0, 2, [(0.47058823529411764, 0, 's'), (0.53, 1, [(0.058823529411764705, 0, 'end'), (0.47058823529411764, 0, 'c')])])\n",
      "Solucion final\n",
      "\n",
      "<class 'list'>\n",
      "\n",
      "<class 'list'>\n",
      "1\n",
      "{'s': '0', 'end': '10', 'c': '11'}\n"
     ]
    }
   ],
   "source": [
    "probs = get_probabilities(Y)\n",
    "# Construimos el árbol de parseo! : )\n",
    "tree = make_tree(probs)\n",
    "# Construimos el diccionario para codificar\n",
    "dic = make_dictionary(tree)\n",
    "print(dic)"
   ]
  },
  {
   "cell_type": "code",
   "execution_count": 48,
   "metadata": {},
   "outputs": [
    {
     "data": {
      "text/plain": [
       "(1.0, 1.0, 1.0)"
      ]
     },
     "execution_count": 48,
     "metadata": {},
     "output_type": "execute_result"
    }
   ],
   "source": [
    "entropia(X), entropia_prob_pq(p), entropia_posibilidades(len(set(X)))"
   ]
  },
  {
   "cell_type": "code",
   "execution_count": 49,
   "metadata": {},
   "outputs": [
    {
     "data": {
      "text/plain": [
       "16.0"
      ]
     },
     "execution_count": 49,
     "metadata": {},
     "output_type": "execute_result"
    }
   ],
   "source": [
    "N*entropia(X) # es igual al numero de datos que genere, no puedo comprimir la informacion"
   ]
  },
  {
   "cell_type": "code",
   "execution_count": 77,
   "metadata": {},
   "outputs": [],
   "source": [
    "## ejemplo con una moneda: 5000 veces, p=3/4\n",
    "\n",
    "p = 3/4\n",
    "N = 5000\n",
    "X = np.random.binomial(size=N, n=1, p=p)\n",
    "\n",
    "# si cae 0 es cara y si cae 1 es sello.\n",
    "Y = \"\"\n",
    "\n",
    "for i in range(len(X)):\n",
    "    if X[i] == 0:\n",
    "        Y = Y + \"c\"\n",
    "    else:\n",
    "        Y = Y + \"s\""
   ]
  },
  {
   "cell_type": "code",
   "execution_count": 78,
   "metadata": {},
   "outputs": [
    {
     "name": "stdout",
     "output_type": "stream",
     "text": [
      "(0.0001999600079984003, 0, 'end')\n",
      "(0.7558488302339532, 0, 's')\n",
      "(0.2439512097580484, 0, 'c')\n",
      "\n",
      "\n",
      "(0.24, 1, [(0.0001999600079984003, 0, 'end'), (0.2439512097580484, 0, 'c')])\n",
      "(0.7558488302339532, 0, 's')\n",
      "\n",
      "\n",
      "(1.0, 2, [(0.24, 1, [(0.0001999600079984003, 0, 'end'), (0.2439512097580484, 0, 'c')]), (0.7558488302339532, 0, 's')])\n",
      "Solucion final\n",
      "\n",
      "<class 'list'>\n",
      "\n",
      "<class 'list'>\n",
      "0\n",
      "{'end': '00', 'c': '01', 's': '1'}\n"
     ]
    }
   ],
   "source": [
    "probs = get_probabilities(Y)\n",
    "# Construimos el árbol de parseo! : )\n",
    "tree = make_tree(probs)\n",
    "# Construimos el diccionario para codificar\n",
    "dic = make_dictionary(tree)\n",
    "print(dic)"
   ]
  },
  {
   "cell_type": "code",
   "execution_count": 79,
   "metadata": {},
   "outputs": [
    {
     "data": {
      "text/plain": [
       "(0.802, 0.811)"
      ]
     },
     "execution_count": 79,
     "metadata": {},
     "output_type": "execute_result"
    }
   ],
   "source": [
    "entropia(X), entropia_prob_pq(p) # ya no uso entropia posibilidades porque no es uniformemente distribuido."
   ]
  },
  {
   "cell_type": "code",
   "execution_count": 80,
   "metadata": {},
   "outputs": [],
   "source": [
    "bits = N*entropia_prob_pq(p) # puedo comprimir la infomacion, si nos fijamos en el dic, s es mas probable por lo tanto trato de usar menos bit\n",
    "                             # y como c es menos probable trato de usar mas bit."
   ]
  },
  {
   "cell_type": "code",
   "execution_count": 81,
   "metadata": {},
   "outputs": [
    {
     "data": {
      "text/plain": [
       "4055.0000000000005"
      ]
     },
     "execution_count": 81,
     "metadata": {},
     "output_type": "execute_result"
    }
   ],
   "source": [
    "bits"
   ]
  },
  {
   "cell_type": "code",
   "execution_count": 82,
   "metadata": {},
   "outputs": [
    {
     "data": {
      "text/plain": [
       "18.89999999999999"
      ]
     },
     "execution_count": 82,
     "metadata": {},
     "output_type": "execute_result"
    }
   ],
   "source": [
    "(N-bits)/N*100 # estamos comprimiento la informacion en %"
   ]
  },
  {
   "cell_type": "code",
   "execution_count": 85,
   "metadata": {},
   "outputs": [],
   "source": [
    "compressed = compress(dic,Y)"
   ]
  },
  {
   "cell_type": "code",
   "execution_count": 86,
   "metadata": {},
   "outputs": [
    {
     "data": {
      "text/plain": [
       "2598317181717325699087572847660787510133776585154213476991921250923015185672255163127240251657917854893297818136165568756200870469468966366253237820331144635222203509415744383275524536256598382059548845699015429830701322728192755340169932206991496743290749871841716822340747002167374405862798960135177678793327979031642345435989318552061578766962113551713304321989262812267081637185563045862244755263182322260789122934818466123293221761360634277214359406189844544460595401454370830739437143147347098056116916658032938843780720625145208936420686565069657448246394212081396674613746351219422808640442945434727349061484883959185233861620551406552496914440335743210661593589687654669793212670115089883565395611165268783233793880543855856958891902255880838587301335797615340354965712216886619669898886645635847674112741646779187702519089735634511577179226906753884358669735199869011039892716572503664132136009903422513784750397713725018709180220859813507264396372856978945229128279343031050728944257570298660793309702430106044858392963514957859352108838744421878982354135617561863055957298994962061175494391769927003704021703051944348400114857353077856300878405633365085067570518194755440812709739560089880901733237174351707484036100320015882894082001288100715500589029353079968578013196282842618645011685532942928072110578338604238094364464124230516755549471696522035156054658068111282192309343125413932676350694219863313683912169057766433147777606597304126154266149917402794979902357450051978369187433074894069212306661541279132228400629063685476234174647261391496625808163165185219306016070035280911894205866601024541674124509837086968983090126036331819845771880139069485586308039599697816470494181396682213568612032044942081325782585487212294029172374087647178626531074787082120968556804311204314047198358621389049187901735781672502630457808885094826580733424921798497487549952"
      ]
     },
     "execution_count": 86,
     "metadata": {},
     "output_type": "execute_result"
    }
   ],
   "source": [
    "compressed"
   ]
  },
  {
   "cell_type": "code",
   "execution_count": 90,
   "metadata": {},
   "outputs": [
    {
     "data": {
      "text/plain": [
       "1876"
      ]
     },
     "execution_count": 90,
     "metadata": {},
     "output_type": "execute_result"
    }
   ],
   "source": [
    "len([int(x) for x in str(compressed)])"
   ]
  },
  {
   "cell_type": "code",
   "execution_count": 91,
   "metadata": {},
   "outputs": [
    {
     "data": {
      "text/plain": [
       "5000"
      ]
     },
     "execution_count": 91,
     "metadata": {},
     "output_type": "execute_result"
    }
   ],
   "source": [
    "len(Y)"
   ]
  },
  {
   "cell_type": "code",
   "execution_count": null,
   "metadata": {},
   "outputs": [],
   "source": []
  },
  {
   "cell_type": "code",
   "execution_count": null,
   "metadata": {},
   "outputs": [],
   "source": []
  },
  {
   "cell_type": "code",
   "execution_count": null,
   "metadata": {},
   "outputs": [],
   "source": []
  }
 ],
 "metadata": {
  "kernelspec": {
   "display_name": "Python 3",
   "language": "python",
   "name": "python3"
  },
  "language_info": {
   "codemirror_mode": {
    "name": "ipython",
    "version": 3
   },
   "file_extension": ".py",
   "mimetype": "text/x-python",
   "name": "python",
   "nbconvert_exporter": "python",
   "pygments_lexer": "ipython3",
   "version": "3.7.1"
  }
 },
 "nbformat": 4,
 "nbformat_minor": 2
}
